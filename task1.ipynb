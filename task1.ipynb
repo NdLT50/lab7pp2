{
 "cells": [
  {
   "cell_type": "code",
   "execution_count": 7,
   "metadata": {},
   "outputs": [
    {
     "name": "stdout",
     "output_type": "stream",
     "text": [
      "Requirement already satisfied: pygame in c:\\users\\nurdaulet\\anaconda3\\lib\\site-packages (2.6.1)\n",
      "Note: you may need to restart the kernel to use updated packages.\n"
     ]
    }
   ],
   "source": [
    "pip install pygame"
   ]
  },
  {
   "cell_type": "code",
   "execution_count": null,
   "metadata": {},
   "outputs": [],
   "source": [
    "import pygame\n",
    "import math\n",
    "from datetime import datetime\n",
    "\n",
    "def blitrotate(surf, image, pos, originPos, angle):\n",
    "    image_rect = image.get_rect(center=(pos[0], pos[1]))\n",
    "    rotated_image = pygame.transform.rotate(image, -angle) \n",
    "    rotated_rect = rotated_image.get_rect(center=image_rect.center)\n",
    "    surf.blit(rotated_image, rotated_rect)\n",
    "\n",
    "pygame.init()\n",
    "clocks = pygame.image.load(\"clock.png\")\n",
    "minutes = pygame.image.load(\"rightarm.png\")\n",
    "seconds = pygame.image.load(\"leftarm.png\")\n",
    "screen = pygame.display.set_mode(clocks.get_size())\n",
    "clock = pygame.time.Clock()\n",
    "center_x, center_y = screen.get_width() // 2, screen.get_height() // 2\n",
    "minutes_pos = (center_x, center_y)\n",
    "seconds_pos = (center_x, center_y)\n",
    "\n",
    "running = True\n",
    "while running:\n",
    "    for event in pygame.event.get():\n",
    "        if event.type == pygame.QUIT:\n",
    "            running = False\n",
    "    now = datetime.now()\n",
    "    second_angle = (now.second / 60) * 360\n",
    "    minute_angle = (now.minute / 60) * 360\n",
    "    screen.fill((255, 255, 255)) \n",
    "    screen.blit(clocks, (0, 0))\n",
    "    blitrotate(screen, minutes, minutes_pos, (0, 0), minute_angle)\n",
    "    blitrotate(screen, seconds, seconds_pos, (0, 0), second_angle)\n",
    "\n",
    "    pygame.display.flip()\n",
    "    clock.tick(60)\n",
    "\n",
    "pygame.quit()\n"
   ]
  },
  {
   "cell_type": "code",
   "execution_count": null,
   "metadata": {},
   "outputs": [],
   "source": [
    "i"
   ]
  },
  {
   "cell_type": "code",
   "execution_count": null,
   "metadata": {},
   "outputs": [],
   "source": []
  },
  {
   "cell_type": "code",
   "execution_count": null,
   "metadata": {},
   "outputs": [],
   "source": []
  }
 ],
 "metadata": {
  "kernelspec": {
   "display_name": "base",
   "language": "python",
   "name": "python3"
  },
  "language_info": {
   "codemirror_mode": {
    "name": "ipython",
    "version": 3
   },
   "file_extension": ".py",
   "mimetype": "text/x-python",
   "name": "python",
   "nbconvert_exporter": "python",
   "pygments_lexer": "ipython3",
   "version": "3.11.4"
  }
 },
 "nbformat": 4,
 "nbformat_minor": 2
}
